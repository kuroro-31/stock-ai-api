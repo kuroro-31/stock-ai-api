{
  "nbformat": 4,
  "nbformat_minor": 0,
  "metadata": {
    "colab": {
      "provenance": [],
      "machine_shape": "hm",
      "gpuType": "T4",
      "authorship_tag": "ABX9TyMhL8q84elYxGx2iW8Z/oXQ",
      "include_colab_link": true
    },
    "kernelspec": {
      "name": "python3",
      "display_name": "Python 3"
    },
    "language_info": {
      "name": "python"
    },
    "accelerator": "GPU",
    "gpuClass": "standard"
  },
  "cells": [
    {
      "cell_type": "markdown",
      "metadata": {
        "id": "view-in-github",
        "colab_type": "text"
      },
      "source": [
        "<a href=\"https://colab.research.google.com/github/kuroro-31/stock-ai-api/blob/master/LSTM%E6%A0%AA%E4%BE%A1%E4%BA%88%E6%B8%AC.ipynb\" target=\"_parent\"><img src=\"https://colab.research.google.com/assets/colab-badge.svg\" alt=\"Open In Colab\"/></a>"
      ]
    },
    {
      "cell_type": "code",
      "source": [
        "!pip install keras-tuner\n",
        "import numpy as np\n",
        "import pandas as pd\n",
        "import yfinance as yf\n",
        "from sklearn.preprocessing import MinMaxScaler\n",
        "from sklearn.metrics import mean_squared_error\n",
        "from tensorflow.keras.models import Sequential\n",
        "from tensorflow.keras.layers import Dense, LSTM, Dropout\n",
        "from kerastuner.tuners import RandomSearch\n",
        "from datetime import datetime"
      ],
      "metadata": {
        "id": "oRv4M-wFA20e"
      },
      "execution_count": null,
      "outputs": []
    },
    {
      "cell_type": "code",
      "source": [
        "# テクニカル指標を計算する関数\n",
        "def calculate_technical_indicators(data):\n",
        "    data['EMA12'] = data['Close'].ewm(span=12).mean()\n",
        "    data['EMA26'] = data['Close'].ewm(span=26).mean()\n",
        "    data['MACD'] = data['EMA12'] - data['EMA26']\n",
        "    data['Signal'] = data['MACD'].ewm(span=9).mean()\n",
        "    data['RSI'] = data['Close'].rolling(window=14).apply(lambda x: 100 - (100 / (1 + (x.diff().dropna().apply(lambda x: x if x >= 0 else 0).sum() / x.diff().dropna().apply(lambda x: x if x < 0 else 0).abs().sum()))))\n",
        "\n",
        "# データ取得\n",
        "symbol = \"AAPL\"\n",
        "start_date = \"2020-01-01\"\n",
        "end_date = \"2023-05-01\"\n",
        "\n",
        "data = yf.download(symbol, start=start_date, end=end_date)\n",
        "data = data[['Close']]\n",
        "\n",
        "calculate_technical_indicators(data)"
      ],
      "metadata": {
        "id": "HThRQZUabzTk"
      },
      "execution_count": null,
      "outputs": []
    },
    {
      "cell_type": "code",
      "source": [
        "# ファンダメンタル指標の取得（P/E比）\n",
        "pe_ratio = yf.Ticker(symbol).info['trailingPE']\n",
        "data['PE'] = pe_ratio\n",
        "\n",
        "# 欠損値の削除\n",
        "data = data.dropna()"
      ],
      "metadata": {
        "id": "-bXjAURI7rw5"
      },
      "execution_count": 82,
      "outputs": []
    },
    {
      "cell_type": "code",
      "source": [
        "# データの前処理\n",
        "look_back = 60\n",
        "scaler = MinMaxScaler()\n",
        "data_scaled = scaler.fit_transform(data)\n",
        "\n",
        "train_size = int(len(data_scaled) * 0.8)\n",
        "train, test = data_scaled[0:train_size], data_scaled[train_size - look_back:]\n",
        "\n",
        "def create_dataset(data, look_back):\n",
        "    X, Y = [], []\n",
        "    for i in range(len(data) - look_back - 1):\n",
        "        X.append(data[i:(i + look_back), :])\n",
        "        Y.append(data[i + look_back, 0])\n",
        "    return np.array(X), np.array(Y)\n",
        "\n",
        "X_train, y_train = create_dataset(train, look_back)\n",
        "X_test, y_test = create_dataset(test, look_back)"
      ],
      "metadata": {
        "id": "P0ABsk-j7ukO"
      },
      "execution_count": 83,
      "outputs": []
    },
    {
      "cell_type": "code",
      "source": [
        "# LSTMモデルの構築(LSTM層が4つ)\n",
        "# Keras Tunerを使用してハイパーパラメータをチューニング\n",
        "# ドロップアウト率を0.3に\n",
        "def build_lstm_model(hp):\n",
        "    model = Sequential()\n",
        "    model.add(LSTM(hp.Int(\"input_units\", min_value=30, max_value=150, step=30), return_sequences=True, input_shape=(look_back, data.shape[1])))\n",
        "    model.add(Dropout(hp.Float(\"input_dropout\", min_value=0.1, max_value=0.5, step=0.1)))\n",
        "    model.add(LSTM(hp.Int(\"layer_1_units\", min_value=30, max_value=150, step=30), return_sequences=True))\n",
        "    model.add(Dropout(hp.Float(\"layer_1_dropout\", min_value=0.1, max_value=0.5, step=0.1)))\n",
        "    model.add(LSTM(hp.Int(\"layer_2_units\", min_value=30, max_value=150, step=30), return_sequences=True))\n",
        "    model.add(Dropout(hp.Float(\"layer_2_dropout\", min_value=0.1, max_value=0.5, step=0.1)))\n",
        "    model.add(LSTM(hp.Int(\"layer_3_units\", min_value=30, max_value=150, step=30)))\n",
        "    model.add(Dropout(hp.Float(\"layer_3_dropout\", min_value=0.1, max_value=0.5, step=0.1)))\n",
        "    model.add(Dense(1))\n",
        "\n",
        "    model.compile(optimizer='adam', loss='mean_squared_error')\n",
        "    return model"
      ],
      "metadata": {
        "id": "Ppg1QpWs7wxE"
      },
      "execution_count": 84,
      "outputs": []
    },
    {
      "cell_type": "code",
      "source": [
        "# ハイパーパラメータのチューニング\n",
        "tuner = RandomSearch(\n",
        "    build_lstm_model,\n",
        "    objective=\"val_loss\",\n",
        "    max_trials=20,\n",
        "    executions_per_trial=2,\n",
        "    directory=\"random_search\",\n",
        "    project_name=\"stock_prediction\"\n",
        ")\n",
        "\n",
        "tuner.search_space_summary()"
      ],
      "metadata": {
        "id": "67OgNB0Kdm--"
      },
      "execution_count": null,
      "outputs": []
    },
    {
      "cell_type": "code",
      "source": [
        "tuner.search(X_train, y_train, epochs=100, batch_size=32, validation_split=0.2, verbose=0)"
      ],
      "metadata": {
        "id": "QpOVRCkrdrxq"
      },
      "execution_count": 86,
      "outputs": []
    },
    {
      "cell_type": "code",
      "source": [
        "best_hyperparameters = tuner.get_best_hyperparameters(num_trials=1)[0]"
      ],
      "metadata": {
        "id": "6IRiiaB6dwA8"
      },
      "execution_count": 87,
      "outputs": []
    },
    {
      "cell_type": "code",
      "source": [
        "best_model = tuner.get_best_models(num_models=1)[0]"
      ],
      "metadata": {
        "id": "9HZdsiznd9GK"
      },
      "execution_count": null,
      "outputs": []
    },
    {
      "cell_type": "code",
      "source": [
        "# 予測\n",
        "train_predict = best_model.predict(X_train)\n",
        "test_predict = best_model.predict(X_test)\n",
        "\n",
        "train_predict = scaler.inverse_transform(np.hstack((train_predict, np.zeros((train_predict.shape[0], data.shape[1]-1)))))\n",
        "test_predict = scaler.inverse_transform(np.hstack((test_predict, np.zeros((test_predict.shape[0], data.shape[1]-1)))))\n",
        "\n",
        "print(\"Train RMSE:\", np.sqrt(mean_squared_error(y_train, train_predict[:, 0])))\n",
        "print(\"Test RMSE:\", np.sqrt(mean_squared_error(y_test, test_predict[:, 0])))"
      ],
      "metadata": {
        "id": "c7PwhJhJ7y_V"
      },
      "execution_count": null,
      "outputs": []
    },
    {
      "cell_type": "code",
      "source": [
        "# 予測結果のプロット\n",
        "import matplotlib.pyplot as plt\n",
        "\n",
        "plt.plot(data.index, data['Close'], label=\"Actual\")\n",
        "\n",
        "# Trainデータの予測結果をプロット\n",
        "train_range = data.index[look_back:len(train_predict) + look_back]\n",
        "plt.plot(train_range, train_predict[:, 0], label=\"Train Prediction\")\n",
        "\n",
        "# Testデータの予測結果をプロット\n",
        "test_range = data.index[len(train_predict) + look_back + 1:len(train_predict) + len(test_predict) + look_back + 1]\n",
        "plt.plot(test_range, test_predict, label=\"Test Prediction\")\n",
        "\n",
        "\n",
        "plt.legend()\n",
        "plt.show()"
      ],
      "metadata": {
        "id": "4UqfzqFM70Ps"
      },
      "execution_count": null,
      "outputs": []
    },
    {
      "cell_type": "code",
      "source": [],
      "metadata": {
        "id": "ZLx4AnAbmsyC"
      },
      "execution_count": 90,
      "outputs": []
    }
  ]
}